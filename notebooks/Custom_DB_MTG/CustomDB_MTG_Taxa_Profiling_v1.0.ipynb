{
 "cells": [
  {
   "cell_type": "markdown",
   "id": "ff6ce464-9b5c-4133-b6c8-763a4346b01f",
   "metadata": {},
   "source": [
    "# Re-formatting plankton-specific marker genes fetched from different sources to create a custom database (DB) compatible with the powerful metagenomics-based taxonomic profiling tool [Motus](https://www.nature.com/articles/s41467-019-08844-4).  \n",
    "\n",
    "See Motus' GitHub repo [here](https://github.com/motu-tool/mOTUs).\n",
    "\n",
    "### NOTE: given that DB customization for Motus is not clearly explained in the Docs, we use a tool called [read_counter](https://github.com/AlessioMilanese/read_counter), which is a wrapper to run Motus using a customized DB.\n",
    "\n",
    "Importantly, the default reference DB of marker genes used by Motus is not suitable for profiling marine planktonic ecosystems. Therefore we will create a plankton-specific marker gene DB to quantify relative abundance profiles across taxonomic groups. To achieve this, we will build on two well curated marker gene DBs: \n",
    "\n",
    "   - The huge catalog of phytoplankton psbO marker gene sequences, which encodes the manganese-stabilising polypeptide of the photosystem II oxygen evolving complex,  reported in this [paper](https://onlinelibrary.wiley.com/doi/epdf/10.1111/1755-0998.13592) and accessible [here](https://www.ebi.ac.uk/biostudies/studies/S-BSST761?query=A%20robust%20approach%20to%20estimate%20relative%20phytoplankton%20cell%20abundances%20from%20metagenomes). \n",
    "\n",
    "   - The [MZGdb](https://metazoogene.org/MZGdb) database and most specifically the \"All Plankton Combo\" files contain all data from the All Zooplankton and the All Ichthyoplankton combined files. This database was described in this [paper](https://link.springer.com/article/10.1007/s00227-021-03887-y). Here we will focus on DNA sequences for the barcode region of mitochondrial cytochrome oxidase I (COI).\n",
    "   \n",
    "#### The code developed in this Notebook is meant for developing our first proof-of-concept (POC1) biodiversity data asset, which focuses on the taxonomic composition found in a given environmental sample. In a nutshell, we assess relative abundances across numerous plankton taxonomic groups from metagenomics (MTG) datasets.  \n",
    " \n",
    "</br>\n",
    "\n",
    "Author: jay@newatlantis.io"
   ]
  },
  {
   "cell_type": "code",
   "execution_count": null,
   "id": "74c396e3",
   "metadata": {},
   "outputs": [],
   "source": [
    "#pip install for outside requirements\n",
    "!pip3 install -r requirements.txt"
   ]
  },
  {
   "cell_type": "code",
   "execution_count": null,
   "id": "c59b949c-d89d-48a9-b71b-6e504468d322",
   "metadata": {},
   "outputs": [],
   "source": [
    "import matplotlib\n",
    "%matplotlib inline\n",
    "import matplotlib.pyplot as plt\n",
    "from matplotlib import cm\n",
    "import seaborn as sns\n",
    "import colorsys\n",
    "from matplotlib.collections import PatchCollection\n",
    "\n",
    "import Bio.SeqIO as bioseqio\n",
    "from Bio.Seq import Seq\n",
    "from Bio.SeqRecord import SeqRecord\n",
    "#from Bio.Alphabet import IUPAC\n",
    "from Bio import Entrez\n",
    "\n",
    "from ete3 import NCBITaxa\n",
    "from taxonomy_ranks import TaxonomyRanks\n",
    "\n",
    "from subprocess import Popen, call, STDOUT, PIPE\n",
    "import os\n",
    "import shutil\n",
    "import pandas as pd\n",
    "import numpy as np\n",
    "import matplotlib\n",
    "import json\n",
    "import glob\n",
    "import re\n",
    "import gzip\n",
    "import sys\n",
    "import csv\n",
    "import time\n",
    "import io\n",
    "import pathlib\n",
    "from collections import OrderedDict\n",
    "\n",
    "import pickle\n",
    "import bz2 \n",
    "\n",
    "from IPython.display import Image\n",
    "from itertools import combinations\n",
    "import itertools"
   ]
  },
  {
   "cell_type": "code",
   "execution_count": null,
   "id": "e3920c14-3db0-4fc8-8be3-6cff191686a9",
   "metadata": {},
   "outputs": [],
   "source": [
    "pd.set_option('mode.chained_assignment', None)"
   ]
  },
  {
   "cell_type": "code",
   "execution_count": null,
   "id": "1b5dc89f-6bf0-4156-83d0-b4afbe67d305",
   "metadata": {},
   "outputs": [],
   "source": [
    "matplotlib.rcParams['savefig.dpi'] = 1000\n",
    "matplotlib.rcParams['figure.dpi'] = 1000\n",
    "sns.set_style(\"whitegrid\", {'axes.grid' : False})\n",
    "sns.set_context(\"paper\")\n",
    "sns.set(font='serif')\n",
    "sns.set_style('ticks')"
   ]
  },
  {
   "cell_type": "code",
   "execution_count": null,
   "id": "0f3eecf2-4ce4-4812-8982-24a79fe2d35d",
   "metadata": {},
   "outputs": [],
   "source": [
    "import plotly.graph_objects as go\n",
    "import plotly.io as pio\n",
    "import plotly.express as px\n",
    "###Uncomment below if necessary\n",
    "rendef = \"png\" #\"pdf\" \n",
    "fig_renderer = pio.renderers[rendef]\n",
    "fig_renderer.width = 1000\n",
    "fig_renderer.height = 1000\n",
    "pio.renderers.default = rendef"
   ]
  },
  {
   "cell_type": "markdown",
   "id": "b1c41c6f-fe67-48b3-949c-ae6581aae429",
   "metadata": {},
   "source": [
    "Utility functions"
   ]
  },
  {
   "cell_type": "code",
   "execution_count": null,
   "id": "4c0a05f5-3b59-49c6-a2ac-9c8feb852d7b",
   "metadata": {},
   "outputs": [],
   "source": [
    "def format_tax_lbl(taxid = '94617'):\n",
    "    \"\"\"Function to properly format taxonomic labels compatible with MetaPhlan\"\"\"\n",
    "    \n",
    "    tax_lvls_lbls = ['species','genus','family', 'order', 'class', 'phylum', 'superkingdom'][::-1]\n",
    "    rank_taxon = TaxonomyRanks(taxid)\n",
    "    rank_taxon.get_lineage_taxids_and_taxanames()\n",
    "    rank_dict =  list(rank_taxon.lineages.values())[0]\n",
    "    tax_tree = list(rank_taxon.lineages.values())[0]\n",
    "    \n",
    "    #Parsing info on high rank tanks is optional, but can be quite handy when low ranks are unclassified: for higher rank assignment purposes if needed\n",
    "    tax_ranks_list = [tax_tree[t][0].replace(\"NA\",\"unclassified\") for t in tax_lvls_lbls]\n",
    "    ncbi_taxIDs_list = [str(tax_tree[t][1]) for t in tax_lvls_lbls]\n",
    "    return ncbi_taxIDs_list,tax_ranks_list \n",
    "\n",
    "def parse_lineage(lineage_str):\n",
    "    '''Function to correctly parse lineage using NCBI tax ID'''\n",
    "    return (\";\".join(format_tax_lbl(lineage_str.split(';')[-1].replace('_', ' '))[-1])).replace(\" \",\"_\")"
   ]
  },
  {
   "cell_type": "code",
   "execution_count": null,
   "id": "ddcffbee-032f-4c55-9139-782813ee815f",
   "metadata": {},
   "outputs": [],
   "source": [
    "# *Always* tell NCBI who you are\n",
    "Entrez.email = \"jayson.gutierrez@vliz.be\""
   ]
  },
  {
   "cell_type": "code",
   "execution_count": null,
   "id": "b83a2c12-0499-44d3-ad33-c471bb4c5d9a",
   "metadata": {},
   "outputs": [],
   "source": [
    "#Dumping our select marker gene set into this fasta\n",
    "custom_db_fasta_fid = '../custom_db/CustomPhytoZooPlanktonMGs.fna'"
   ]
  },
  {
   "cell_type": "markdown",
   "id": "39426b71-1114-45b5-b971-0f422a802e7b",
   "metadata": {},
   "source": [
    "### Processing/filtering COI (mitochondrial cytochrome oxidase I gene) sequences for Zooplankton sepecies"
   ]
  },
  {
   "cell_type": "code",
   "execution_count": null,
   "id": "c16770e2-1e86-41ae-8da0-0b5a676f9de4",
   "metadata": {
    "collapsed": true,
    "jupyter": {
     "outputs_hidden": true
    },
    "tags": []
   },
   "outputs": [],
   "source": [
    "coi_zooplankt_df = pd.read_csv(\"../data/MZGdata-coi__MZGdbALL__o00__A.csv\", header=None)"
   ]
  },
  {
   "cell_type": "markdown",
   "id": "84c3a24d-eddf-4636-b2ee-277b00959ed9",
   "metadata": {},
   "source": [
    "A COI sequence from this highly curated gene sequence database looks like this "
   ]
  },
  {
   "cell_type": "code",
   "execution_count": null,
   "id": "80a3268b-d05c-49cc-b96a-385c8014fdf4",
   "metadata": {},
   "outputs": [],
   "source": [
    "print(coi_zooplankt_df.iloc[1,30])"
   ]
  },
  {
   "cell_type": "code",
   "execution_count": null,
   "id": "1081cbc6-c799-4a14-9b5e-89c2827e3234",
   "metadata": {},
   "outputs": [],
   "source": [
    "print(\"This COI DB contains a total number of {} sequences\".format(coi_zooplankt_df.shape[0]))"
   ]
  },
  {
   "cell_type": "markdown",
   "id": "accad6ba-d2d1-4434-bfbc-1470326be2c2",
   "metadata": {},
   "source": [
    "The following chunks of code will perform filtering and reformatting of the headers of each sequence in the original COI DB"
   ]
  },
  {
   "cell_type": "code",
   "execution_count": null,
   "id": "eedcefa2-f9fa-409d-8f09-6a3e171beec2",
   "metadata": {},
   "outputs": [],
   "source": [
    "###Uncomment below to rebuild custom DB\n",
    "filtered_coi_zooplankt_df = coi_zooplankt_df[coi_zooplankt_df.iloc[:,33].map(lambda s: isinstance(s, str))]\n",
    "#Lets concentrate on organism name and corresponding COI sequence\n",
    "min_coi_zooplankt_df = filtered_coi_zooplankt_df.iloc[:,[1,8,30]]\n",
    "#Rename columns\n",
    "#Use genebank accession to fetch a bunch of info needed to reformat headers\n",
    "min_coi_zooplankt_df.columns = [\"Species_name\",\"Genebank_accession\",\"Species_COI_seq\"]\n",
    "#Add full lineage\n",
    "min_coi_zooplankt_df['Full_lineage'] = filtered_coi_zooplankt_df.iloc[:,33].map(lambda s: \";\".join([l for l in s.split(';') if '_EXT' not in l and l!='']))\n",
    "#Drop duplicate entries for genebank accessions\n",
    "min_coi_zooplankt_df = min_coi_zooplankt_df.drop_duplicates(['Species_name'])\n",
    "#Reset index\n",
    "min_coi_zooplankt_df.reset_index(drop=True, inplace=True)"
   ]
  },
  {
   "cell_type": "markdown",
   "id": "636f307a-4233-490b-96ef-f803f2e4c632",
   "metadata": {},
   "source": [
    "Iterating over each row in the filtered DF and creating a Seq object with formatted header, which is dumped into the dedicated file"
   ]
  },
  {
   "cell_type": "code",
   "execution_count": null,
   "id": "69319101-8855-4073-8c99-524a52e24143",
   "metadata": {},
   "outputs": [],
   "source": [
    "###Uncomment below to rebuild custom DB\n",
    "\n",
    "# for i,seq_rec in min_coi_zooplankt_df.iterrows():\n",
    "\n",
    "#     record = SeqRecord(\n",
    "#     Seq(seq_rec['Species_COI_seq']),\n",
    "#     id = seq_rec['Genebank_accession'] + '__' + seq_rec['Full_lineage'],\n",
    "#     name=\"\",\n",
    "#     description=\"\")\n",
    "    \n",
    "#     with open(custom_db_fasta_fid, \"a\") as output_handle:\n",
    "#         bioseqio.write(record, output_handle, \"fasta\")       "
   ]
  },
  {
   "cell_type": "markdown",
   "id": "8df8a86a-a7c9-4ebd-b0dd-815b5ad1d049",
   "metadata": {},
   "source": [
    "### Processing/filtering psbO sequences for Phytoplankton sepecies.\n",
    "\n",
    "Adding to fasta file already created above"
   ]
  },
  {
   "cell_type": "code",
   "execution_count": null,
   "id": "52124c6d-8522-4950-82cc-e47c9c66fdd2",
   "metadata": {},
   "outputs": [],
   "source": [
    "#Original psbO DB\n",
    "psbO_db_fid = '../data/psbO_20210825.fna'"
   ]
  },
  {
   "cell_type": "code",
   "execution_count": null,
   "id": "a52a20a1-7e9f-4031-9367-2cef4b39d76d",
   "metadata": {},
   "outputs": [],
   "source": [
    "print(\"An entry in the psbO DB (fasta format) looks as follows:\\n\")\n",
    "!head $psbO_db_fid -n 10"
   ]
  },
  {
   "cell_type": "code",
   "execution_count": null,
   "id": "6afbc0c0-c53f-49c5-aa8c-21a1e431c1b2",
   "metadata": {},
   "outputs": [],
   "source": [
    "#Uncomment below to rebuild custom DB\n",
    "with open(psbO_db_fid, \"r\") as handle:\n",
    "    for (i,record) in enumerate(bioseqio.parse(handle, \"fasta\")):\n",
    "        if(i>10):\n",
    "            #Fetch standard header components and reformat full header\n",
    "            seq_id, tax_lin = record.description.split(' ')[:2]\n",
    "            record.description=''\n",
    "            record.id = \"{}__{}\".format(seq_id, tax_lin)\n",
    "            #Dump to fasta\n",
    "            with open(custom_db_fasta_fid, \"a\") as output_handle:\n",
    "                bioseqio.write(record, output_handle, \"fasta\") "
   ]
  },
  {
   "cell_type": "markdown",
   "id": "4458b408-43bd-49f1-aea2-52c3804d1472",
   "metadata": {},
   "source": [
    "### Our final DB (concatenated gene markers for both Phyto and Zooplankton species)"
   ]
  },
  {
   "cell_type": "code",
   "execution_count": null,
   "id": "13556d24-eb7c-4b5d-b811-83e099ec4af9",
   "metadata": {},
   "outputs": [],
   "source": [
    "print(\"Total number of marker genes included in our customized DB of marker genes is:\")\n",
    "!grep -c '>' $custom_db_fasta_fid"
   ]
  },
  {
   "cell_type": "markdown",
   "id": "f12be94e-5cfb-410d-9e6e-6a0eb1f30055",
   "metadata": {},
   "source": [
    "### With the customized marker gene DB (for both zooplankton --COI sequences-- & phytoplankton --psbO sequences--) created above we can screen across metagenomic datasets in order to assess the taxonomic composition of the plankton community sequenced."
   ]
  },
  {
   "cell_type": "markdown",
   "id": "faf20df2-cd6a-464d-9c20-cf128210ba6a",
   "metadata": {},
   "source": [
    "#### A short read in a MTG file looks like this:  \n",
    "\n",
    "```@ERR1719507.4222 H2:D1NNJACXX:6:1101:5303:2333/1\n",
    "AGCGAGCCCACTGTGTTCCCGGGGGACTGGGGGCCATTAGCGGCGTCAGACACGGGGGGGAGCGGGGTCTGACCATCCTGGGCCGGGACCCGGCCGTCCAGTTTGTCCAGCATGGCCCGGGCCGCCCCGTGCTTGGCCTGCTTCTTG\n",
    "+\n",
    "CCCFFFFFHHHHGGIIJJJJIJJJJGHIJJJJHDDDDDDDDDDCDBJJJHIGJJJJJJJJJJIJJJJJJJJIJJJJJJJJJJJJJJJEJJJJJJJJJJJJJDDDDDDDDDDDDDDDDDFFHJJIIJJJJJIJJJHGHHHFFFFFCCC```"
   ]
  },
  {
   "cell_type": "markdown",
   "id": "aecada64-3a78-4b24-b0e3-1cc5275e246b",
   "metadata": {},
   "source": [
    "### Analysis  \n",
    "The following is a simple visualiztion illustrating the relative abundances across a bunch of plankton taxonomic groups (down to the species level) that we obtained from profiling a given TARA Ocean sample (ID: [ERR1719507](https://www.ebi.ac.uk/ena/browser/view/ERR1719507)) collected in the North Atlantic Ocean (offshore Cadiz, Spain, [Location 36.5533 N 6.5669 W](https://www.google.com/maps/place/36%C2%B033'11.9%22N+6%C2%B034'00.8%22W/@36.5534368,-6.5668384,17z/data=!4m5!3m4!1s0x0:0x9aa20881883fdb5f!8m2!3d36.5533!4d-6.5669)), on date/time=2009-09-15T18:00, using a PUMP (High Volume Peristaltic Pump). The sample material (particulate matter, including plankton (ENVO:xxxxxxxx)) was collected at a depth of 38-42 m, targeting a deep chlorophyll maximum layer (ENVO:xxxxxxxx) in the marine biome (ENVO:00000447). The sample was size-fractionated (0.8-5 micrometres), and stored in liquid nitrogen for later detection of unicellular eukaryote (protist) nucleic acid sequences by pyrosequencing methods, and for later metagenomics/transcriptomics analysis. This sample has replicate sample(s): TARA_X000000407.\""
   ]
  },
  {
   "cell_type": "code",
   "execution_count": null,
   "id": "a3a04338-f8f6-45c4-912b-023bdaff4a95",
   "metadata": {},
   "outputs": [],
   "source": [
    "with open('../results/ERR1719507_mapped_reads.map','r') as fid:\n",
    "    lines = fid.readlines()\n",
    "    \n",
    "#Parsing lines\n",
    "data = [re.split('\\t|__',l.strip()) for l in lines if ';' in l]\n",
    "#Pick only those with a given format to avoid noise\n",
    "data = [l for l in data if len(l)==3]"
   ]
  },
  {
   "cell_type": "code",
   "execution_count": null,
   "id": "68ea7782-accf-4101-ab77-6452007a1580",
   "metadata": {},
   "outputs": [],
   "source": [
    "#Cast data into a DF\n",
    "abund_df = pd.DataFrame(data, columns = ['GeneID','Lineage','Abundance'])\n",
    "#Change data type\n",
    "abund_df['Abundance'] = abund_df['Abundance'].astype(float)\n",
    "#Sort data by Abundance\n",
    "abund_df.sort_values('Abundance', ascending=False, inplace=True)\n",
    "#Reset index for tractability purpose\n",
    "abund_df.reset_index(drop=True, inplace=True)\n",
    "#Reformatting lineage using NCBI taxID\n",
    "abund_df['Lineage'] = abund_df['Lineage'].map(parse_lineage)\n",
    "#Count total number of observations/hits across unique taxa\n",
    "unique_taxa_abund_df = abund_df.groupby('Lineage')['Abundance'].sum().sort_values(ascending=False)\n",
    "#Take log10 and make df\n",
    "unique_taxa_log_abund_df = unique_taxa_abund_df.map(np.log10).reset_index()\n",
    "#Cut off by a certain value\n",
    "thresholded_df = unique_taxa_log_abund_df[unique_taxa_log_abund_df['Abundance']>=1]"
   ]
  },
  {
   "cell_type": "markdown",
   "id": "29d13ad7-0844-4256-b2ec-46c6b1769d31",
   "metadata": {},
   "source": [
    "Make a new DF with columns = taxonomic level, and then append at the end the abundance observed in the sample analyzed"
   ]
  },
  {
   "cell_type": "code",
   "execution_count": null,
   "id": "f1da526c-e334-4d9a-b32d-8488ae4df366",
   "metadata": {},
   "outputs": [],
   "source": [
    "tax_enumeration_df_filtered = pd.DataFrame.from_records(thresholded_df['Lineage'].map(lambda s: s.split(';')).values)\n",
    "#Name columns\n",
    "tax_enumeration_df_filtered.columns = ['species','genus','family', 'order', 'class', 'phylum', 'superkingdom'][::-1]\n",
    "#Add log-transformed abundance column \n",
    "tax_enumeration_df_filtered['log_abundance'] = thresholded_df['Abundance'].values"
   ]
  },
  {
   "cell_type": "code",
   "execution_count": null,
   "id": "8727126f-32f8-4cff-a99a-aad7575b1b94",
   "metadata": {},
   "outputs": [],
   "source": [
    "#Peek at the new DF\n",
    "tax_enumeration_df_filtered.head()"
   ]
  },
  {
   "cell_type": "code",
   "execution_count": null,
   "id": "22332cbb-84e6-4c78-adb7-8bf6aafc785e",
   "metadata": {},
   "outputs": [],
   "source": [
    "fig = px.sunburst(tax_enumeration_df_filtered,#.query('superkingdom == \"Eukaryota\"'), \n",
    "                  path=['superkingdom','phylum', 'class', 'order', 'family', 'genus'], \n",
    "                  values='log_abundance', color='order')\n",
    "\n",
    "fig.update_layout(\n",
    "                title={\n",
    "                    'text': \"Species richness in TARA Ocean's sample (ID = ERR1719507)\",\n",
    "                    'y':0.985,\n",
    "                    'x':0.5,\n",
    "                    'xanchor': 'center',\n",
    "                    'yanchor': 'top',\n",
    "                    'font_size':30,\n",
    "                    'font_color':\"black\"})\n",
    "\n",
    "\n",
    "# fig.update_yaxes(automargin=True)\n",
    "# fig.update_xaxes(automargin=True)\n",
    "\n",
    "fig.update_layout(\n",
    "    autosize=False,\n",
    "#     width=500,\n",
    "#     height=500,\n",
    "    margin=dict(\n",
    "        l=1,\n",
    "        r=1,\n",
    "        b=4,\n",
    "        t=50,\n",
    "        pad=2\n",
    "    ),\n",
    "    paper_bgcolor=\"White\",\n",
    ")\n",
    "\n",
    "fig.show(width=1000, height=1000)\n",
    "# pio.write_image(fig, \"CustomProkEukDB/SunburstTaxDist_DB_v2.3.png\", width=1.5*1000, height=1*1000, scale =1.25)"
   ]
  },
  {
   "cell_type": "markdown",
   "id": "29c627a3-90a7-4d7e-8a0f-b5c8e51f7345",
   "metadata": {},
   "source": [
    "### Observations  \n",
    "\n",
    "- Zooplankton is clearly the numerically dominant taxonomic group in this sample.\n",
    "- Based on the test performed above, one can conclude that the taxonomic profiling tools is quite effective at profiling the taxonomic composition of MTG datasets using our customized DB.  \n",
    "\n",
    "- The tool is ready for large-scale testing (using more TARA Ocean MTG datasets) for better assessing the ability of the computational pipeline to characterize taxonomic diversity across samples collected across a great variety of oceanic provinces.  \n",
    "\n",
    "- Once testing is achieved, we can confidently deploy the tool to characterize our future in-house collected MTG datasets."
   ]
  }
 ],
 "metadata": {
  "kernelspec": {
   "display_name": "Python 3.10.6 64-bit",
   "language": "python",
   "name": "python3"
  },
  "language_info": {
   "codemirror_mode": {
    "name": "ipython",
    "version": 3
   },
   "file_extension": ".py",
   "mimetype": "text/x-python",
   "name": "python",
   "nbconvert_exporter": "python",
   "pygments_lexer": "ipython3",
   "version": "3.10.6"
  },
  "vscode": {
   "interpreter": {
    "hash": "aee8b7b246df8f9039afb4144a1f6fd8d2ca17a180786b69acc140d282b71a49"
   }
  }
 },
 "nbformat": 4,
 "nbformat_minor": 5
}
