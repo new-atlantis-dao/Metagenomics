{
 "cells": [
  {
   "cell_type": "markdown",
   "id": "1819e125-f5d4-429d-9a99-2b8a15785da4",
   "metadata": {},
   "source": [
    "# Use Notebook to deploy Motus (via the wrapper read_counter.py) over a cluster with a Slurm resource manager and job scheduler.  \n",
    "### Here, a job comprises a computer task performing taxonomic profiling of a MTG sample collected during the TARA Ocean expedition. \n",
    "### Based on this tool we can profile MTGs using a reference database of phylogenetically conserved marker genes across a great variety of planktonic groups.  This database was built using the following marker gene DBs:\n",
    "\n",
    "The huge catalog of phytoplankton psbO marker gene sequences, which encodes the manganese-stabilising polypeptide of the photosystem II oxygen evolving complex, reported in this [paper](https://onlinelibrary.wiley.com/doi/epdf/10.1111/1755-0998.13592) and accessible [here](https://www.ebi.ac.uk/biostudies/studies/S-BSST761?query=A%20robust%20approach%20to%20estimate%20relative%20phytoplankton%20cell%20abundances%20from%20metagenomes).\n",
    "\n",
    "The [MZGdb](https://metazoogene.org/MZGdb) database and most specifically the \"All Plankton Combo\" files contain all data from the All Zooplankton and the All Ichthyoplankton combined files. This database was described in this [paper](https://link.springer.com/article/10.1007/s00227-021-03887-y). Here we will focus on DNA sequences for the barcode region of mitochondrial cytochrome oxidase I (COI).  \n",
    "\n",
    "The reference database was built in Notebook: `CustomDB_MTG_Taxa_Profiling_v1.0.ipynb`\n"
   ]
  },
  {
   "cell_type": "code",
   "execution_count": 1,
   "id": "2c61f2d9-cb30-4a4b-81b7-ea4e9162d808",
   "metadata": {},
   "outputs": [],
   "source": [
    "import matplotlib as mpl\n",
    "mpl.rcParams['figure.dpi']= 300\n",
    "%matplotlib inline\n",
    "import matplotlib.pyplot as plt\n",
    "from matplotlib import cm, colors\n",
    "from matplotlib.colors import ListedColormap\n",
    "import seaborn as sns\n",
    "import pandas as pd\n",
    "sns.set_style('ticks')\n",
    "import glob \n",
    "from subprocess import Popen, call, STDOUT, PIPE\n",
    "import os\n",
    "import numpy as np\n",
    "import matplotlib"
   ]
  },
  {
   "cell_type": "code",
   "execution_count": 2,
   "id": "4b09dbb2-c895-4781-8325-0f5ae3480817",
   "metadata": {},
   "outputs": [],
   "source": [
    "matplotlib.rcParams['savefig.dpi'] = 1000\n",
    "matplotlib.rcParams['figure.dpi'] = 900\n",
    "sns.set_style(\"whitegrid\", {'axes.grid' : False})\n",
    "sns.set_context(\"paper\")\n",
    "sns.set(font='serif')\n",
    "# sns.set_style(\"white\", {\n",
    "#         \"font.family\": \"serif\",\n",
    "#         \"font.serif\": [\"Times\", \"Palatino\", \"serif\"]\n",
    "#     })\n",
    "sns.set_style('ticks')"
   ]
  },
  {
   "cell_type": "code",
   "execution_count": 1,
   "id": "fddb2984-4bdc-4b74-8f78-f83fa7891f86",
   "metadata": {},
   "outputs": [],
   "source": [
    "#Utility function\n",
    "def runShell(cmd):\n",
    "    Popen(cmd,shell=True,stdout=PIPE,stderr=PIPE).communicate()[0]"
   ]
  },
  {
   "cell_type": "markdown",
   "id": "d7827f72-8962-4740-afe7-1cf1082cae96",
   "metadata": {},
   "source": [
    "### To submit jobs to the cluster using this notebook follow the steps below"
   ]
  },
  {
   "cell_type": "markdown",
   "id": "72ed5e67-bbdf-445b-801f-2e85e83e7713",
   "metadata": {},
   "source": [
    "Job script template to submit on a per-sample basis.  \n",
    "\n",
    "**NOTE:** For properly setting the following script you must:  \n",
    "   - Activate dedicated conda environment within which the motus software was installed (MOTUS_ENV)\n",
    "   - Provide full path to all things Motus profiler (BASE_DIR), which contains data/ code/, etc. \n",
    "   - Provide full path to read_counter wrapper (READ_COUNTER_PATH), which  calls and runs Motus on a customized DB\n",
    "   \n",
    "**NOTE2:** The /readonly prefix in the bash script below can be removed for most clusters."
   ]
  },
  {
   "cell_type": "code",
   "execution_count": 7,
   "id": "92c5c7d4-76fd-4fdc-9935-0c0f80763988",
   "metadata": {},
   "outputs": [],
   "source": [
    "job_script_template = '''\n",
    "#!/bin/bash\n",
    "#PBS -l nodes=1:ppn=1\n",
    "#PBS -l mem=30gb\n",
    "#PBS -l walltime=24:00:00\n",
    "\n",
    "#Activate conda environment\n",
    "source activate ${MOTUS_ENV}\n",
    "\n",
    "#Run script to fetch clean MTG/MTX paired-end reads from ftp server\n",
    "bash /dodrio/scratch/projects/starting_2022_048/Motus/scripts/fetch_merge_pe_reads.sh %(accession_id)s %(ftp2r1)s %(ftp2r2)s\n",
    "\n",
    "MERGED_READS=${BASE_DIR}/data/TARA_metaGs/%(accession_id)s_merged_reads.fastq\n",
    "export INPUT_FASTQ=/readonly${MERGED_READS}\n",
    "\n",
    "#NOTE: ${BASE_DIR}/data/custom_db/DB == ${BASE_DIR}/data/custom_db/CustomPhytoZooPlanktonMGs.fna\n",
    "CUSTOM_DB=/readonly${BASE_DIR}/data/custom_db/DB\n",
    "\n",
    "OUTPUT_MAPPING=${BASE_DIR}/results/%(accession_id)s_mapped_reads.map\n",
    "\n",
    "cd ${BASE_DIR}/scripts\n",
    "\n",
    "${READ_COUNTER_PATH}/read_counter map -s ${INPUT_FASTQ} -y insert.raw_counts -db ${CUSTOM_DB} -o ${OUTPUT_MAPPING} -l 80 -t 48\n",
    "\n",
    "#Remove merged reads after running humann3\n",
    "rm ${MERGED_READS}\n",
    "\n",
    "'''"
   ]
  },
  {
   "cell_type": "code",
   "execution_count": 8,
   "id": "bbb04e8d-7d83-4307-868a-c475fec9c715",
   "metadata": {},
   "outputs": [],
   "source": [
    "#Read in DF containing info on metaGs and metaTs\n",
    "metag_df = pd.read_csv('../../data/taxa_profiling_test_1/TARA_metaG_metadata.tsv',index_col='Unnamed: 0')\n",
    "\n",
    "#ID samples by SAM accession ID\n",
    "accessions_list = metag_df['sample_accession'].drop_duplicates().values\n",
    "\n",
    "#Set directory where dedicated script will be run from\n",
    "job_script_dir = '/dodrio/scratch/projects/starting_2022_048/Motus/scripts/'"
   ]
  },
  {
   "cell_type": "markdown",
   "id": "78ce7f9c-2b1c-4b0d-96de-ad34c7aad63a",
   "metadata": {},
   "source": [
    "Loop over each SAM accession ID in list *accessions_list* and create a dedicated job script file to submit to the cluster.  \n",
    "\n",
    "**WARNING:** You might want to run only a subsample of the whole list of accessions in *accessions_list*, otherwise you might get the whole system overloaded!!!  \n",
    "\n",
    "To potentially prevent your system from collapsing, the code below is commented. Uncomment for running the whole set of samples contained in *accessions_list*."
   ]
  },
  {
   "cell_type": "code",
   "execution_count": 7,
   "id": "b7c3172f-2a75-445d-a97a-b3b02ae81df5",
   "metadata": {},
   "outputs": [],
   "source": [
    "# #Set type of sample, keep in mind that we are dealing with paired MTG-MTT\n",
    "# for accid in accessions_list: \n",
    "    \n",
    "#     #FTPs to fetch paired end reads from\n",
    "#     ftp2r1, ftp2r2 = metag_df.query('sample_accession==\"{}\"'.format(accid))['submitted_ftp'].values[0].split(';')\n",
    "\n",
    "#     #Create sample specific job script, save to dedicated folder and submit job\n",
    "#     job_submit_script = job_script_template % {'accession_id':accid, 'ftp2r1':ftp2r1, 'ftp2r2':ftp2r2}\n",
    "#     script_name = os.path.join(job_script_dir,'job_motus_sample_{}.sh'.format(accid))\n",
    "\n",
    "#     #Dump text into .sh file\n",
    "#     with open(script_name,'w') as fid:\n",
    "#         fid.write(job_submit_script)\n",
    "\n",
    "#     #Submit job\n",
    "#     runShell(\"qsub {}\".format(script_name))"
   ]
  },
  {
   "cell_type": "markdown",
   "id": "1abbf1e3-9d8d-4761-a5ec-988972968265",
   "metadata": {},
   "source": [
    "Check the structure of a job script"
   ]
  },
  {
   "cell_type": "code",
   "execution_count": 16,
   "id": "dc5fdf99-d475-4a97-a93d-75b5a082aeb9",
   "metadata": {},
   "outputs": [
    {
     "name": "stdout",
     "output_type": "stream",
     "text": [
      "\n",
      "#!/bin/bash\n",
      "#PBS -l nodes=1:ppn=1\n",
      "#PBS -l mem=30gb\n",
      "#PBS -l walltime=24:00:00\n",
      "#PBS -A starting_2022_048\n",
      "\n",
      "#Activate conda environment\n",
      "source activate /dodrio/scratch/projects/starting_2022_048/envs/motus\n",
      "\n",
      "###Set base folder\n",
      "BASE_DIR=/dodrio/scratch/projects/starting_2022_048/Motus\n",
      "\n",
      "#Run script to fetch clean MTG/MTX paired-end reads from ftp server\n",
      "bash /dodrio/scratch/projects/starting_2022_048/Motus/scripts/fetch_merge_pe_reads.sh SAMEA2731167 ftp.sra.ebi.ac.uk/vol1/run/ERR172/ERR1726802/AHX_BMGIOSF_4_1_C2FGHACXX.IND2_clean.fastq.gz ftp.sra.ebi.ac.uk/vol1/run/ERR172/ERR1726802/AHX_BMGIOSF_4_2_C2FGHACXX.IND2_clean.fastq.gz\n",
      "\n",
      "MERGED_READS=${BASE_DIR}/data/TARA_metaGs/SAMEA2731167_merged_reads.fastq\n",
      "export INPUT_FASTQ=/readonly${MERGED_READS}\n",
      "\n",
      "#NOTE: ${BASE_DIR}/custom_db/DB == ${BASE_DIR}/custom_db/CustomPhytoZooPlanktonMGs.fna\n",
      "CUSTOM_DB=/readonly${BASE_DIR}/custom_db/DB\n",
      "\n",
      "OUTPUT_MAPPING=${BASE_DIR}/results/SAMEA2731167_mapped_reads.map\n",
      "\n",
      "cd ${BASE_DIR}/scripts\n",
      "\n",
      "/dodrio/scratch/projects/starting_2022_048/Motus/read_counter/read_counter map -s ${INPUT_FASTQ} -y insert.raw_counts -db ${CUSTOM_DB} -o ${OUTPUT_MAPPING} -l 80 -t 48\n",
      "\n",
      "#Remove merged reads after running humann3\n",
      "rm ${MERGED_READS}\n",
      "\n"
     ]
    }
   ],
   "source": [
    "accid = accessions_list[0]\n",
    "script_name = os.path.join(job_script_dir,'job_motus_sample_{}.sh'.format(accid))\n",
    "\n",
    "!cat $script_name"
   ]
  },
  {
   "cell_type": "markdown",
   "id": "8fcce00e-d49e-4582-be89-a50a2e95cbce",
   "metadata": {},
   "source": [
    "### Next, after running the whole set of samples contained in *accessions_list*, check which output files (e.g. SAMEA*_mapped_reads.map) have been successfuly run to completion"
   ]
  },
  {
   "cell_type": "code",
   "execution_count": 17,
   "id": "0e2007e1-69b1-42b5-9d9b-a7ecf3e248d7",
   "metadata": {},
   "outputs": [
    {
     "name": "stdout",
     "output_type": "stream",
     "text": [
      "No. of MTGs processed by Motus/read_counter: 50\n"
     ]
    }
   ],
   "source": [
    "get_all_output_files = glob.glob(\"../../results/taxa_profiling_test_1/SAMEA*_mapped_reads.map\")\n",
    "\n",
    "success_runs = []\n",
    "for ofn in get_all_output_files:\n",
    "    with open(ofn,'r') as fid:\n",
    "        l = fid.readlines()[1:]\n",
    "        if(len(l)>10):\n",
    "            success_runs.append(ofn.split(\"_mapped_reads.map\")[0].split('/')[-1])\n",
    "            \n",
    "#Samples to re-run for metaGs            \n",
    "sid_samples2rerun = list(set(accessions_list).difference(set(success_runs)))\n",
    "\n",
    "# print(\"Total No. of jobs still pending for running: {}\\n\".format(len(sid_samples2rerun)))\n",
    "\n",
    "print(\"No. of MTGs processed by Motus/read_counter: {}\".format(len(success_runs)))"
   ]
  }
 ],
 "metadata": {
  "kernelspec": {
   "display_name": "Python 3 (ipykernel)",
   "language": "python",
   "name": "python3"
  },
  "language_info": {
   "codemirror_mode": {
    "name": "ipython",
    "version": 3
   },
   "file_extension": ".py",
   "mimetype": "text/x-python",
   "name": "python",
   "nbconvert_exporter": "python",
   "pygments_lexer": "ipython3",
   "version": "3.9.6"
  }
 },
 "nbformat": 4,
 "nbformat_minor": 5
}
